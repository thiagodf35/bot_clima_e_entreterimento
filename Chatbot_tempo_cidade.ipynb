{
  "nbformat": 4,
  "nbformat_minor": 0,
  "metadata": {
    "colab": {
      "provenance": [],
      "authorship_tag": "ABX9TyPuEBfolG23cni1xVWZbV3Q",
      "include_colab_link": true
    },
    "kernelspec": {
      "name": "python3",
      "display_name": "Python 3"
    },
    "language_info": {
      "name": "python"
    }
  },
  "cells": [
    {
      "cell_type": "markdown",
      "metadata": {
        "id": "view-in-github",
        "colab_type": "text"
      },
      "source": [
        "<a href=\"https://colab.research.google.com/github/thiagodf35/bot_clima_e_entreterimento/blob/main/Chatbot_tempo_cidade.ipynb\" target=\"_parent\"><img src=\"https://colab.research.google.com/assets/colab-badge.svg\" alt=\"Open In Colab\"/></a>"
      ]
    },
    {
      "cell_type": "code",
      "execution_count": 143,
      "metadata": {
        "id": "lc94XTEwYPIL",
        "colab": {
          "base_uri": "https://localhost:8080/"
        },
        "outputId": "ca3855e1-3986-489a-ee5d-6f6226da50c1"
      },
      "outputs": [
        {
          "output_type": "stream",
          "name": "stdout",
          "text": [
            "\u001b[31mERROR: Operation cancelled by user\u001b[0m\u001b[31m\n",
            "\u001b[0mTraceback (most recent call last):\n",
            "  File \"/usr/local/lib/python3.10/dist-packages/pip/_vendor/pkg_resources/__init__.py\", line 3108, in _dep_map\n",
            "    return self.__dep_map\n",
            "  File \"/usr/local/lib/python3.10/dist-packages/pip/_vendor/pkg_resources/__init__.py\", line 2901, in __getattr__\n",
            "    raise AttributeError(attr)\n",
            "AttributeError: _DistInfoDistribution__dep_map\n",
            "\n",
            "During handling of the above exception, another exception occurred:\n",
            "\n",
            "Traceback (most recent call last):\n",
            "  File \"/usr/local/lib/python3.10/dist-packages/pip/_internal/cli/base_command.py\", line 169, in exc_logging_wrapper\n",
            "    status = run_func(*args)\n",
            "  File \"/usr/local/lib/python3.10/dist-packages/pip/_internal/cli/req_command.py\", line 242, in wrapper\n",
            "    return func(self, options, args)\n",
            "  File \"/usr/local/lib/python3.10/dist-packages/pip/_internal/commands/install.py\", line 441, in run\n",
            "    conflicts = self._determine_conflicts(to_install)\n",
            "  File \"/usr/local/lib/python3.10/dist-packages/pip/_internal/commands/install.py\", line 572, in _determine_conflicts\n",
            "    return check_install_conflicts(to_install)\n",
            "  File \"/usr/local/lib/python3.10/dist-packages/pip/_internal/operations/check.py\", line 101, in check_install_conflicts\n",
            "    package_set, _ = create_package_set_from_installed()\n",
            "  File \"/usr/local/lib/python3.10/dist-packages/pip/_internal/operations/check.py\", line 42, in create_package_set_from_installed\n",
            "    dependencies = list(dist.iter_dependencies())\n",
            "  File \"/usr/local/lib/python3.10/dist-packages/pip/_internal/metadata/pkg_resources.py\", line 216, in iter_dependencies\n",
            "    return self._dist.requires(extras)\n",
            "  File \"/usr/local/lib/python3.10/dist-packages/pip/_vendor/pkg_resources/__init__.py\", line 2821, in requires\n",
            "    dm = self._dep_map\n",
            "  File \"/usr/local/lib/python3.10/dist-packages/pip/_vendor/pkg_resources/__init__.py\", line 3110, in _dep_map\n",
            "    self.__dep_map = self._compute_dependencies()\n",
            "  File \"/usr/local/lib/python3.10/dist-packages/pip/_vendor/pkg_resources/__init__.py\", line 3120, in _compute_dependencies\n",
            "    reqs.extend(parse_requirements(req))\n",
            "  File \"/usr/local/lib/python3.10/dist-packages/pip/_vendor/pkg_resources/__init__.py\", line 3173, in __init__\n",
            "    super(Requirement, self).__init__(requirement_string)\n",
            "  File \"/usr/local/lib/python3.10/dist-packages/pip/_vendor/packaging/requirements.py\", line 102, in __init__\n",
            "    req = REQUIREMENT.parseString(requirement_string)\n",
            "  File \"/usr/local/lib/python3.10/dist-packages/pip/_vendor/pyparsing/core.py\", line 1131, in parse_string\n",
            "    loc, tokens = self._parse(instring, 0)\n",
            "  File \"/usr/local/lib/python3.10/dist-packages/pip/_vendor/pyparsing/core.py\", line 817, in _parseNoCache\n",
            "    loc, tokens = self.parseImpl(instring, pre_loc, doActions)\n",
            "  File \"/usr/local/lib/python3.10/dist-packages/pip/_vendor/pyparsing/core.py\", line 3888, in parseImpl\n",
            "    resultlist += exprtokens\n",
            "  File \"/usr/local/lib/python3.10/dist-packages/pip/_vendor/pyparsing/results.py\", line 436, in __iadd__\n",
            "    otherdictitems = [\n",
            "  File \"/usr/local/lib/python3.10/dist-packages/pip/_vendor/pyparsing/results.py\", line 437, in <listcomp>\n",
            "    (k, _ParseResultsWithOffset(v[0], addoffset(v[1])))\n",
            "  File \"/usr/local/lib/python3.10/dist-packages/pip/_vendor/pyparsing/results.py\", line 434, in <lambda>\n",
            "    addoffset = lambda a: offset if a < 0 else a + offset\n",
            "KeyboardInterrupt\n",
            "\n",
            "During handling of the above exception, another exception occurred:\n",
            "\n",
            "Traceback (most recent call last):\n",
            "  File \"/usr/local/bin/pip3\", line 8, in <module>\n",
            "    sys.exit(main())\n",
            "  File \"/usr/local/lib/python3.10/dist-packages/pip/_internal/cli/main.py\", line 79, in main\n",
            "    return command.main(cmd_args)\n",
            "  File \"/usr/local/lib/python3.10/dist-packages/pip/_internal/cli/base_command.py\", line 101, in main\n",
            "    return self._main(args)\n",
            "  File \"/usr/local/lib/python3.10/dist-packages/pip/_internal/cli/base_command.py\", line 223, in _main\n",
            "    return run(options, args)\n",
            "  File \"/usr/local/lib/python3.10/dist-packages/pip/_internal/cli/base_command.py\", line 206, in exc_logging_wrapper\n",
            "    logger.critical(\"Operation cancelled by user\")\n",
            "  File \"/usr/lib/python3.10/logging/__init__.py\", line 1524, in critical\n",
            "    self._log(CRITICAL, msg, args, **kwargs)\n",
            "  File \"/usr/lib/python3.10/logging/__init__.py\", line 1624, in _log\n",
            "    self.handle(record)\n",
            "  File \"/usr/lib/python3.10/logging/__init__.py\", line 1634, in handle\n",
            "    self.callHandlers(record)\n",
            "  File \"/usr/lib/python3.10/logging/__init__.py\", line 1696, in callHandlers\n",
            "    hdlr.handle(record)\n",
            "  File \"/usr/lib/python3.10/logging/__init__.py\", line 968, in handle\n",
            "    self.emit(record)\n",
            "  File \"/usr/lib/python3.10/logging/handlers.py\", line 73, in emit\n",
            "    if self.shouldRollover(record):\n",
            "  File \"/usr/lib/python3.10/logging/handlers.py\", line 191, in shouldRollover\n",
            "    if os.path.exists(self.baseFilename) and not os.path.isfile(self.baseFilename):\n",
            "  File \"/usr/lib/python3.10/genericpath.py\", line 19, in exists\n",
            "    os.stat(path)\n",
            "KeyboardInterrupt\n",
            "^C\n"
          ]
        }
      ],
      "source": [
        "pip install -U -q google.generativeai"
      ]
    },
    {
      "cell_type": "markdown",
      "source": [],
      "metadata": {
        "id": "1YecFqibjrDU"
      }
    },
    {
      "cell_type": "code",
      "source": [
        "import google.generativeai as genai\n",
        "import requests\n",
        "import json"
      ],
      "metadata": {
        "id": "lEGruwcGZIsT"
      },
      "execution_count": null,
      "outputs": []
    },
    {
      "cell_type": "code",
      "source": [
        "from google.colab import userdata\n",
        "api_key = userdata.get('chave')\n",
        "genai.configure(api_key=api_key)\n",
        "chave_climatempo = userdata.get('climatempokey')\n",
        "chave_climatempo = str(chave_climatempo)"
      ],
      "metadata": {
        "id": "tcRKWjZ8ZJTK"
      },
      "execution_count": 146,
      "outputs": []
    },
    {
      "cell_type": "code",
      "source": [
        "for m in genai.list_models():\n",
        "  if 'generateContent' in m.supported_generation_methods:\n",
        "    print(m.name)"
      ],
      "metadata": {
        "colab": {
          "base_uri": "https://localhost:8080/",
          "height": 139
        },
        "id": "zK1i-s-EcMGx",
        "outputId": "4fbfe213-da16-4182-8f5e-9508786c9c85"
      },
      "execution_count": null,
      "outputs": [
        {
          "output_type": "stream",
          "name": "stdout",
          "text": [
            "models/gemini-1.0-pro\n",
            "models/gemini-1.0-pro-001\n",
            "models/gemini-1.0-pro-latest\n",
            "models/gemini-1.0-pro-vision-latest\n",
            "models/gemini-1.5-pro-latest\n",
            "models/gemini-pro\n",
            "models/gemini-pro-vision\n"
          ]
        }
      ]
    },
    {
      "cell_type": "code",
      "source": [
        "generation_config = {\n",
        "    \"candidate_count\": 1,\n",
        "    \"temperature\": 0.6,\n",
        "}"
      ],
      "metadata": {
        "id": "RPDA_DnSeIwf"
      },
      "execution_count": null,
      "outputs": []
    },
    {
      "cell_type": "code",
      "source": [
        "model = genai.GenerativeModel(model_name=\"gemini-1.0-pro\",\n",
        "                              generation_config=generation_config)"
      ],
      "metadata": {
        "id": "I4JXOhVIeYL5"
      },
      "execution_count": null,
      "outputs": []
    },
    {
      "cell_type": "code",
      "source": [
        "#api climatempo - verificar a clima na sua cidade.\n",
        "\n",
        "cidade = input(\"Informe aqui o nome da cidade: \")\n",
        "url = \"http://apiadvisor.climatempo.com.br/api/v1/locale/city?name=\"+str(cidade)+\"&token=\"+str(chave_climatempo)\n",
        "response = requests.request(\"GET\", url)\n",
        "retorno_req = json.loads(response.text)\n",
        "print(retorno_req)\n",
        "IDcidade = retorno_req[0]\n",
        "print(IDcidade)\n",
        "url1 = \"http://apiadvisor.climatempo.com.br/api/v1/climate/temperature/locale/\"+str(IDcidade) + \"/?token=\"+str(chave_climatempo)\n",
        "response1 = requests.request(\"GET\", url1)\n",
        "retorno_req1 = json.loads(response1.text)\n",
        "print(retorno_req1)"
      ],
      "metadata": {
        "colab": {
          "base_uri": "https://localhost:8080/"
        },
        "id": "45LbdIg6h5q1",
        "outputId": "1dc84c66-fc12-4fac-83f7-1fb932077cd3"
      },
      "execution_count": 147,
      "outputs": [
        {
          "output_type": "stream",
          "name": "stdout",
          "text": [
            "Informe aqui o nome da cidade: Cuiabá\n",
            "[{'id': 7615, 'name': 'Cuiabá', 'state': 'MT', 'country': 'BR  '}]\n",
            "{'id': 7615, 'name': 'Cuiabá', 'state': 'MT', 'country': 'BR  '}\n",
            "{'error': True, 'detail': 'Access forbidden, your plan does not grant access to this resource.'}\n"
          ]
        }
      ]
    },
    {
      "cell_type": "code",
      "source": [
        "#chat = model.start_chat(history=[])"
      ],
      "metadata": {
        "id": "Tvba55WhfWZe"
      },
      "execution_count": null,
      "outputs": []
    },
    {
      "cell_type": "code",
      "source": [
        "cidade = input(\"Informe aqui o nome da cidade: \")\n",
        "response = chat.send_message(procurar)\n",
        "print(\"Resposta: \", retorno_req1, \"\\n\")\n"
      ],
      "metadata": {
        "colab": {
          "base_uri": "https://localhost:8080/",
          "height": 69
        },
        "id": "d23zVSOAgJLV",
        "outputId": "8cb4d983-6d55-4d75-924e-3d1c2d86136a"
      },
      "execution_count": 140,
      "outputs": [
        {
          "output_type": "stream",
          "name": "stdout",
          "text": [
            "Informe aqui o nome da cidade: Rio de janeiro\n",
            "Resposta:  {'error': True, 'detail': 'Access forbidden, your plan does not grant access to this resource.'} \n",
            "\n"
          ]
        }
      ]
    },
    {
      "cell_type": "code",
      "source": [
        "#Aqui ele fala um pouco sobre a cidade que pesquisou.\n",
        "busca = f\"Lugares para visitar {cidade}\"\n",
        "modelx = genai.GenerativeModel(model_name=\"gemini-1.0-pro\", generation_config=generation_config)\n",
        "responsex = modelx.generate_content(busca)\n",
        "print(responsex.text)"
      ],
      "metadata": {
        "id": "yXDL3W6y9vcs",
        "colab": {
          "base_uri": "https://localhost:8080/",
          "height": 486
        },
        "outputId": "78785c1b-4933-41b0-99ee-76427f813d6b"
      },
      "execution_count": 142,
      "outputs": [
        {
          "output_type": "stream",
          "name": "stdout",
          "text": [
            "**Ícones**\n",
            "\n",
            "* **Cristo Redentor:** A icônica estátua do Cristo Redentor no topo do Morro do Corcovado, com vistas panorâmicas da cidade.\n",
            "* **Pão de Açúcar:** Dois cumes de granito conectados por um teleférico, oferecendo vistas deslumbrantes da Baía de Guanabara.\n",
            "* **Copacabana:** Uma praia mundialmente famosa conhecida por seu calçadão em mosaico, areia branca e ondas suaves.\n",
            "* **Praia de Ipanema:** Outra praia icônica, conhecida por sua vida noturna vibrante e cenário deslumbrante.\n",
            "\n",
            "**Cultura e História**\n",
            "\n",
            "* **Museu Nacional de Belas Artes:** Abriga uma vasta coleção de arte brasileira e internacional.\n",
            "* **Museu Histórico Nacional:** Exibe a história do Brasil desde o período colonial até os tempos modernos.\n",
            "* **Theatro Municipal:** Uma casa de ópera e teatro de renome mundial com uma arquitetura deslumbrante.\n",
            "* **Arcos da Lapa:** Um aqueduto histórico que agora é um local popular para eventos culturais.\n",
            "\n",
            "**Natureza e Lazer**\n",
            "\n",
            "* **Jardim Botânico:** Um vasto jardim com uma coleção diversificada de plantas tropicais e nativas.\n",
            "* **Floresta da Tijuca:** Uma floresta tropical urbana que abriga cachoeiras, trilhas para caminhadas e vida selvagem.\n",
            "* **Parque Lage:** Um belo parque com um palácio histórico, jardins paisagísticos e um lago.\n",
            "* **Lagoa Rodrigo de Freitas:** Uma lagoa pitoresca cercada por um calçadão para caminhadas e ciclismo.\n",
            "\n",
            "**Compras e Entretenimento**\n",
            "\n",
            "* **Barra da Tijuca:** Um bairro moderno com shoppings de luxo, restaurantes e vida noturna.\n",
            "* **Leblon:** Um bairro sofisticado com lojas de grife, boutiques e restaurantes elegantes.\n",
            "* **Rua do Ouvidor:** Uma rua de pedestres histórica no centro da cidade, repleta de lojas, restaurantes e bares.\n",
            "* **Sambódromo:** O local do desfile anual do Carnaval, com espetáculos de samba coloridos e música contagiante.\n"
          ]
        }
      ]
    }
  ]
}