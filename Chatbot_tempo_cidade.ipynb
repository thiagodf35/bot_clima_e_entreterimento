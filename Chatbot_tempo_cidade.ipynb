{
  "nbformat": 4,
  "nbformat_minor": 0,
  "metadata": {
    "colab": {
      "provenance": [],
      "authorship_tag": "ABX9TyPuEBfolG23cni1xVWZbV3Q",
      "include_colab_link": true
    },
    "kernelspec": {
      "name": "python3",
      "display_name": "Python 3"
    },
    "language_info": {
      "name": "python"
    }
  },
  "cells": [
    {
      "cell_type": "markdown",
      "metadata": {
        "id": "view-in-github",
        "colab_type": "text"
      },
      "source": [
        "<a href=\"https://colab.research.google.com/github/thiagodf35/bot_clima_e_entreterimento/blob/main/Chatbot_tempo_cidade.ipynb\" target=\"_parent\"><img src=\"https://colab.research.google.com/assets/colab-badge.svg\" alt=\"Open In Colab\"/></a>"
      ]
    },
    {
      "cell_type": "code",
      "execution_count": null,
      "metadata": {
        "id": "lc94XTEwYPIL"
      },
      "outputs": [],
      "source": [
        "pip install -U -q google.generativeai"
      ]
    },
    {
      "cell_type": "markdown",
      "source": [],
      "metadata": {
        "id": "1YecFqibjrDU"
      }
    },
    {
      "cell_type": "code",
      "source": [
        "import google.generativeai as genai\n",
        "import requests\n",
        "import json"
      ],
      "metadata": {
        "id": "lEGruwcGZIsT"
      },
      "execution_count": null,
      "outputs": []
    },
    {
      "cell_type": "code",
      "source": [
        "from google.colab import userdata\n",
        "api_key = userdata.get('chave')\n",
        "genai.configure(api_key=api_key)\n",
        "chave_climatempo = userdata.get('climatempokey')\n",
        "chave_climatempo = str(chave_climatempo)"
      ],
      "metadata": {
        "id": "tcRKWjZ8ZJTK"
      },
      "execution_count": 146,
      "outputs": []
    },
    {
      "cell_type": "code",
      "source": [
        "for m in genai.list_models():\n",
        "  if 'generateContent' in m.supported_generation_methods:\n",
        "    print(m.name)"
      ],
      "metadata": {
        "colab": {
          "base_uri": "https://localhost:8080/",
          "height": 139
        },
        "id": "zK1i-s-EcMGx",
        "outputId": "4fbfe213-da16-4182-8f5e-9508786c9c85"
      },
      "execution_count": null,
      "outputs": [
        {
          "output_type": "stream",
          "name": "stdout",
          "text": [
            "models/gemini-1.0-pro\n",
            "models/gemini-1.0-pro-001\n",
            "models/gemini-1.0-pro-latest\n",
            "models/gemini-1.0-pro-vision-latest\n",
            "models/gemini-1.5-pro-latest\n",
            "models/gemini-pro\n",
            "models/gemini-pro-vision\n"
          ]
        }
      ]
    },
    {
      "cell_type": "code",
      "source": [
        "generation_config = {\n",
        "    \"candidate_count\": 1,\n",
        "    \"temperature\": 0.6,\n",
        "}"
      ],
      "metadata": {
        "id": "RPDA_DnSeIwf"
      },
      "execution_count": null,
      "outputs": []
    },
    {
      "cell_type": "code",
      "source": [
        "model = genai.GenerativeModel(model_name=\"gemini-1.0-pro\",\n",
        "                              generation_config=generation_config)"
      ],
      "metadata": {
        "id": "I4JXOhVIeYL5"
      },
      "execution_count": null,
      "outputs": []
    },
    {
      "cell_type": "code",
      "source": [
        "#api climatempo - verificar a clima na sua cidade.\n",
        "\n",
        "cidade = input(\"Informe aqui o nome da cidade: \")\n",
        "url = \"http://apiadvisor.climatempo.com.br/api/v1/locale/city?name=\"+str(cidade)+\"&token=\"+str(chave_climatempo)\n",
        "response = requests.request(\"GET\", url)\n",
        "retorno_req = json.loads(response.text)\n",
        "print(retorno_req)\n",
        "IDcidade = retorno_req[0]\n",
        "print(IDcidade)\n",
        "url1 = \"http://apiadvisor.climatempo.com.br/api/v1/climate/temperature/locale/\"+str(IDcidade) + \"/?token=\"+str(chave_climatempo)\n",
        "response1 = requests.request(\"GET\", url1)\n",
        "retorno_req1 = json.loads(response1.text)\n",
        "print(retorno_req1)"
      ],
      "metadata": {
        "colab": {
          "base_uri": "https://localhost:8080/"
        },
        "id": "45LbdIg6h5q1",
        "outputId": "1dc84c66-fc12-4fac-83f7-1fb932077cd3"
      },
      "execution_count": 147,
      "outputs": [
        {
          "output_type": "stream",
          "name": "stdout",
          "text": [
            "Informe aqui o nome da cidade: Cuiabá\n",
            "[{'id': 7615, 'name': 'Cuiabá', 'state': 'MT', 'country': 'BR  '}]\n",
            "{'id': 7615, 'name': 'Cuiabá', 'state': 'MT', 'country': 'BR  '}\n",
            "{'error': True, 'detail': 'Access forbidden, your plan does not grant access to this resource.'}\n"
          ]
        }
      ]
    },
    {
      "cell_type": "code",
      "source": [
        "#chat = model.start_chat(history=[])"
      ],
      "metadata": {
        "id": "Tvba55WhfWZe"
      },
      "execution_count": null,
      "outputs": []
    },
    {
      "cell_type": "code",
      "source": [
        "cidade = input(\"Informe aqui o nome da cidade: \")\n",
        "response = chat.send_message(procurar)\n",
        "print(\"Resposta: \", retorno_req1, \"\\n\")\n"
      ],
      "metadata": {
        "colab": {
          "base_uri": "https://localhost:8080/",
          "height": 69
        },
        "id": "d23zVSOAgJLV",
        "outputId": "8cb4d983-6d55-4d75-924e-3d1c2d86136a"
      },
      "execution_count": 140,
      "outputs": [
        {
          "output_type": "stream",
          "name": "stdout",
          "text": [
            "Informe aqui o nome da cidade: Rio de janeiro\n",
            "Resposta:  {'error': True, 'detail': 'Access forbidden, your plan does not grant access to this resource.'} \n",
            "\n"
          ]
        }
      ]
    },
    {
      "cell_type": "code",
      "source": [
        "#Aqui ele fala um pouco sobre a cidade que pesquisou.\n",
        "busca = f\"Lugares para visitar {cidade}\"\n",
        "modelx = genai.GenerativeModel(model_name=\"gemini-1.0-pro\", generation_config=generation_config)\n",
        "responsex = modelx.generate_content(busca)\n",
        "print(responsex.text)"
      ],
      "metadata": {
        "id": "yXDL3W6y9vcs",
        "colab": {
          "base_uri": "https://localhost:8080/",
          "height": 486
        },
        "outputId": "78785c1b-4933-41b0-99ee-76427f813d6b"
      },
      "execution_count": 142,
      "outputs": [
        {
          "output_type": "stream",
          "name": "stdout",
          "text": [
            "**Ícones**\n",
            "\n",
            "* **Cristo Redentor:** A icônica estátua do Cristo Redentor no topo do Morro do Corcovado, com vistas panorâmicas da cidade.\n",
            "* **Pão de Açúcar:** Dois cumes de granito conectados por um teleférico, oferecendo vistas deslumbrantes da Baía de Guanabara.\n",
            "* **Copacabana:** Uma praia mundialmente famosa conhecida por seu calçadão em mosaico, areia branca e ondas suaves.\n",
            "* **Praia de Ipanema:** Outra praia icônica, conhecida por sua vida noturna vibrante e cenário deslumbrante.\n",
            "\n",
            "**Cultura e História**\n",
            "\n",
            "* **Museu Nacional de Belas Artes:** Abriga uma vasta coleção de arte brasileira e internacional.\n",
            "* **Museu Histórico Nacional:** Exibe a história do Brasil desde o período colonial até os tempos modernos.\n",
            "* **Theatro Municipal:** Uma casa de ópera e teatro de renome mundial com uma arquitetura deslumbrante.\n",
            "* **Arcos da Lapa:** Um aqueduto histórico que agora é um local popular para eventos culturais.\n",
            "\n",
            "**Natureza e Lazer**\n",
            "\n",
            "* **Jardim Botânico:** Um vasto jardim com uma coleção diversificada de plantas tropicais e nativas.\n",
            "* **Floresta da Tijuca:** Uma floresta tropical urbana que abriga cachoeiras, trilhas para caminhadas e vida selvagem.\n",
            "* **Parque Lage:** Um belo parque com um palácio histórico, jardins paisagísticos e um lago.\n",
            "* **Lagoa Rodrigo de Freitas:** Uma lagoa pitoresca cercada por um calçadão para caminhadas e ciclismo.\n",
            "\n",
            "**Compras e Entretenimento**\n",
            "\n",
            "* **Barra da Tijuca:** Um bairro moderno com shoppings de luxo, restaurantes e vida noturna.\n",
            "* **Leblon:** Um bairro sofisticado com lojas de grife, boutiques e restaurantes elegantes.\n",
            "* **Rua do Ouvidor:** Uma rua de pedestres histórica no centro da cidade, repleta de lojas, restaurantes e bares.\n",
            "* **Sambódromo:** O local do desfile anual do Carnaval, com espetáculos de samba coloridos e música contagiante.\n"
          ]
        }
      ]
    }
  ]
}